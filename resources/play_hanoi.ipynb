{
  "cells": [
    {
      "cell_type": "code",
      "execution_count": null,
      "metadata": {
        "id": "SFNDJ1SSfNVU"
      },
      "outputs": [],
      "source": [
        "# Download and install package\n",
        "!pip install git+https://github.com/jparisu/IArena.git\n"
      ]
    },
    {
      "cell_type": "code",
      "execution_count": 6,
      "metadata": {
        "id": "wioHNbdZfce3"
      },
      "outputs": [],
      "source": [
        "# Imports\n",
        "import IArena.arena.PlayableGame\n",
        "import IArena.games.Hanoi\n"
      ]
    },
    {
      "cell_type": "code",
      "execution_count": null,
      "metadata": {
        "id": "mi-EZXqDflF0"
      },
      "outputs": [],
      "source": [
        "# Create the game and play it\n",
        "rules = IArena.games.Hanoi.HanoiRules()\n",
        "game = IArena.arena.PlayableGame.PlayableGame(rules)\n",
        "print(f\"You got it in : {game.play()} movements!\")\n"
      ]
    },
    {
      "cell_type": "code",
      "execution_count": null,
      "metadata": {
        "id": "087RDxY1liZ2"
      },
      "outputs": [],
      "source": []
    },
    {
      "cell_type": "code",
      "execution_count": null,
      "metadata": {
        "id": "PiUtrMRmfm0Q"
      },
      "outputs": [],
      "source": []
    }
  ],
  "metadata": {
    "colab": {
      "provenance": []
    },
    "kernelspec": {
      "display_name": "Python 3",
      "name": "python3"
    },
    "language_info": {
      "name": "python"
    }
  },
  "nbformat": 4,
  "nbformat_minor": 0
}
