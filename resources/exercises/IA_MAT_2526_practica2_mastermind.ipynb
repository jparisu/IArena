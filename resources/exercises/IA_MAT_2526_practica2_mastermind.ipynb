{
 "cells": [
  {
   "cell_type": "markdown",
   "metadata": {},
   "source": [
    "# <font color=orange> Práctica 2</font>\n",
    "## 3 - MAT - Inteligencia Artificial - CUNEF\n",
    "### Mastermind - With repetition"
   ]
  },
  {
   "cell_type": "markdown",
   "metadata": {},
   "source": [
    "---\n",
    "---"
   ]
  },
  {
   "cell_type": "markdown",
   "metadata": {},
   "source": [
    "# Descripción\n",
    "\n",
    "Esta práctica de programación en **Python** se basa en crear un jugador para el juego indicado, que use métodos inteligentes para obtener buenas puntuaciones.\n",
    "\n",
    "### Entorno\n",
    "\n",
    "Esta práctica se lleva a cabo en el entorno de trabajo **IArena**, un proyecto open source alojado en Github.\n",
    "\n",
    "- [Código fuente](https://github.com/jparisu/IArena)\n",
    "- [Documentación](https://iarena.readthedocs.io/en/latest/index.html)\n",
    "- [Tutorial](https://iarena.readthedocs.io/en/latest/src/getting_started/tutorial.html)\n",
    "\n",
    "Se trabajará específicamente sobre el juego [Mastermind](https://iarena.readthedocs.io/en/latest/src/games/docs/mastermind.html) **sin repeticiones**.\n",
    "\n",
    "### Equipos de trabajo\n",
    "\n",
    "La práctica se realizará en grupos de máximo 2 personas.\n",
    "\n",
    "### Entrega\n",
    "\n",
    "La entrega se basará en **este** fichero Notebook con el código del algoritmo implementado en la clase de jugador correspondiente.\n",
    "La celda de código está marcada más abajo y será la única a evaluar.\n",
    "\n",
    "\n",
    "### Calificación\n",
    "\n",
    "Existe un corrector automático que usará la celda indicada, obtendrá la información de los autores, evaluará el código y calificará la tarea.\n",
    "La calificación será un 90% la puntuación obtenida por el corrector automático, y un 10% por el código: claridad, limpieza, comentarios, etc.\n",
    "\n",
    "La calificación seguirá la rúbrica establecida para el curso. \n",
    "Se recomienda leerla previa a la entrega.\n",
    "\n",
    "> ⚠️ El código y nombres debe estar íntegramente escrito en la celda indicada. Si no, la corrección automática no funcionará.\n",
    "\n",
    "> ⚠️ El profesor se guarda la potestad de realizar exámenes individuales o grupales a los alumnos para determinar la autoría de la entrega."
   ]
  },
  {
   "cell_type": "markdown",
   "metadata": {},
   "source": [
    "---\n",
    "---"
   ]
  },
  {
   "cell_type": "markdown",
   "metadata": {},
   "source": [
    "# Instalación de la librería"
   ]
  },
  {
   "cell_type": "code",
   "execution_count": null,
   "metadata": {},
   "outputs": [],
   "source": [
    "# INSTALL LIBRARY\n",
    "import subprocess\n",
    "import sys\n",
    "\n",
    "IARENA_BRANCH = \"main\"\n",
    "\n",
    "# Check if installed\n",
    "if \"ipynbname\" in sys.modules:\n",
    "    print(\"ipynbname already installed.\")\n",
    "else:\n",
    "\n",
    "    try:\n",
    "        subprocess.check_call([\"pip\", \"install\", f\"ipynbname\"])\n",
    "        print(\"ipynbname Package installed.\")\n",
    "\n",
    "    except Exception as e:\n",
    "\n",
    "        print(f\"Error installing the package: {e}. Installing by magic command.\")\n",
    "\n",
    "        %pip install --upgrade ipynbname\n",
    "\n",
    "\n",
    "if \"IArena\" in sys.modules:\n",
    "    print(\"IArena already installed.\")\n",
    "else:\n",
    "\n",
    "    try:\n",
    "        subprocess.check_call([\"pip\", \"install\", f\"git+https://github.com/jparisu/IArena.git@{IARENA_BRANCH}\"])\n",
    "        print(\"IArena Package installed.\")\n",
    "\n",
    "    except Exception as e:\n",
    "\n",
    "        print(f\"Error installing the package: {e}. Installing by magic command.\")\n",
    "\n",
    "        %pip install --upgrade git+https://github.com/jparisu/IArena.git@main"
   ]
  },
  {
   "cell_type": "markdown",
   "metadata": {},
   "source": [
    "---\n",
    "---"
   ]
  },
  {
   "cell_type": "markdown",
   "metadata": {},
   "source": [
    "# Diseña tu jugador\n",
    "\n",
    "Aquí el alumno debe implementar el algoritmo.\n",
    "\n",
    "> 🔨 **Todo el código entregable debe estar escrito en la siguiente celda**\n",
    "\n",
    "Si se desea, se puede modificar el constructor de la clase, añadir métodos, funciones, variables, etc.\n",
    "*Por ejemplo: se puede sobre-escribir el método `starting_game` para realizar alguna acción al comienzo de cada partida.*\n",
    "\n",
    "> ❗ **No cambiar la signatura de la función principal `play` ni el nombre de las variables `AUTHORS` y `PLAYER`**.\n",
    "\n",
    "> ⚠️ El código y nombres debe estar íntegramente escrito en la celda indicada. Si no, la corrección automática no funcionará."
   ]
  },
  {
   "cell_type": "code",
   "execution_count": 2,
   "metadata": {},
   "outputs": [],
   "source": [
    "# CODE SOLUTION\n",
    "AUTHORS = [\"Doe, John\", ]  # Replace with authors' names\n",
    "\n",
    "# IMPORTANT: do not remove these imports\n",
    "from IArena.games.Mastermind import MastermindMovement, MastermindPosition, MastermindRules\n",
    "from IArena.interfaces.IPlayer import IPlayer\n",
    "\n",
    "\n",
    "# Define player class\n",
    "class StudentsPlayer(IPlayer):\n",
    "\n",
    "    # Constructor\n",
    "    def __init__(self, name: str):\n",
    "        super().__init__(name)\n",
    "        # Add additional initialization if needed\n",
    "        ...\n",
    "\n",
    "    # Called at the beginning of each game\n",
    "    def starting_game(\n",
    "            self,\n",
    "            rules: MastermindRules,\n",
    "            _: int):\n",
    "        # Add initialization at the beginning of a game if needed\n",
    "        ...\n",
    "\n",
    "    def play(\n",
    "            self,\n",
    "            position: MastermindPosition) -> MastermindMovement:\n",
    "\n",
    "        # IMPLEMENT YOUR CODE HERE\n",
    "        # This is a simple example that plays the first possible movement (arbitrary one)\n",
    "\n",
    "        rules = position.get_rules()  # Get the game rules\n",
    "        movements = rules.possible_movements(position)  # Get iterator of possible movements\n",
    "        return next(movements)  # Return the first possible movement\n",
    "\n",
    "\n",
    "# Create player instance (can add ctor parameters if needed)\n",
    "PLAYER = StudentsPlayer(name=\"Student\")"
   ]
  },
  {
   "cell_type": "markdown",
   "metadata": {},
   "source": [
    "---\n",
    "---"
   ]
  },
  {
   "cell_type": "markdown",
   "metadata": {},
   "source": [
    "# AUTO CORRECTOR\n",
    "\n",
    "Esta celda auto-corrige tu jugador y te da la puntuación asociada a tu código.\n",
    "Comprueba que toda la información (autores) es correcta antes de enviar este archivo.\n"
   ]
  },
  {
   "cell_type": "code",
   "execution_count": null,
   "metadata": {},
   "outputs": [],
   "source": [
    "from IArena.grader.AutoGrader import IndividualAutoGrader\n",
    "\n",
    "CONFIGURATION_FILENAME = f\"https://raw.githubusercontent.com/jparisu/IArena/refs/heads/{IARENA_BRANCH}/resources/graders/IA_MAT_2526_mastermind_rep.yaml\"\n",
    "\n",
    "IndividualAutoGrader(\n",
    "    configuration_filename=CONFIGURATION_FILENAME,\n",
    "    player=PLAYER,\n",
    "    authors=AUTHORS\n",
    ").grade()"
   ]
  },
  {
   "cell_type": "markdown",
   "metadata": {},
   "source": [
    "> ❗\n",
    "Este no es íntegramente el auto-corrector que se usará para la entrega.\n",
    "Si se quiere utilizar exactamente el mismo, se debe utlizar el fichero [autograder.py]() con los argumentos indicados a continuación:\n",
    " \n",
    "``` bash\n",
    "# Download auto-grader\n",
    "wget https://raw.githubusercontent.com/jparisu/IArena/main/resources/autograders/autograder.py\n",
    "# Run setting this file as code file\n",
    "python autograder.py --configuration-file \"https://raw.githubusercontent.com/jparisu/IArena/refs/heads/main/resources/graders/IA_MAT_2526_mastermind_rep.yaml\" --code-file <this-file-path>\n",
    "```"
   ]
  }
 ],
 "metadata": {
  "kernelspec": {
   "display_name": ".default_venv",
   "language": "python",
   "name": "python3"
  },
  "language_info": {
   "codemirror_mode": {
    "name": "ipython",
    "version": 3
   },
   "file_extension": ".py",
   "mimetype": "text/x-python",
   "name": "python",
   "nbconvert_exporter": "python",
   "pygments_lexer": "ipython3",
   "version": "3.12.3"
  },
  "orig_nbformat": 4
 },
 "nbformat": 4,
 "nbformat_minor": 2
}
