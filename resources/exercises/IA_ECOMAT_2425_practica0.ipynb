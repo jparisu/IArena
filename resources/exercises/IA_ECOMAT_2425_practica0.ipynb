{
 "cells": [
  {
   "cell_type": "markdown",
   "metadata": {},
   "source": [
    "# <font color=orange> Práctica 0</font>\n",
    "## 3 - ECOMAT - Inteligencia Artificial\n",
    "### Connect4 - Jugada óptima"
   ]
  },
  {
   "cell_type": "markdown",
   "metadata": {},
   "source": [
    "---\n",
    "---"
   ]
  },
  {
   "cell_type": "markdown",
   "metadata": {},
   "source": [
    "## Descripción\n",
    "\n",
    "Esta práctica tiene como objetivo que el alumno se familiarice con el entorno de trabajo **IArena** y con el lenguaje de programación **Python**.\n",
    "Para ello, se propone la implementación de un algoritmo que sea capaz de encontrar la jugada óptima en el juego de **Connect4**.\n",
    "\n",
    "### Entorno\n",
    "\n",
    "Esta práctica se lleva a cabo en el entorno de trabajo **IArena**, un proyecto open source alojado en Github.\n",
    "\n",
    "- [Código fuente](https://github.com/jparisu/IArena)\n",
    "- [Documentación](https://iarena.readthedocs.io/en/latest/index.html)\n",
    "- [Tutorial](https://iarena.readthedocs.io/en/latest/src/getting_started/tutorial.html)\n",
    "\n",
    "### Equipos de trabajo\n",
    "\n",
    "La práctica se realizará en grupos de máximo 2 personas.\n",
    "\n",
    "### Entrega\n",
    "\n",
    "La entrega se basará en este fichero Notebook con el código del algoritmo implementado en la clase de jugador correspondiente.\n",
    "\n",
    "### Calificación\n",
    "\n",
    "**Esta práctica no tiene calificación y es solo para practicar con el entorno.**"
   ]
  },
  {
   "cell_type": "markdown",
   "metadata": {},
   "source": [
    "---\n",
    "---"
   ]
  },
  {
   "cell_type": "markdown",
   "metadata": {},
   "source": [
    "# Instalación de la librería sIArena"
   ]
  },
  {
   "cell_type": "code",
   "execution_count": null,
   "metadata": {},
   "outputs": [],
   "source": [
    "# INSTALL LIBRARY\n",
    "import subprocess\n",
    "import sys\n",
    "\n",
    "try:\n",
    "    subprocess.check_call([\"pip\", \"install\", \"git+https://github.com/jparisu/IArena.git@main\"])\n",
    "    print(\"Package installed.\")\n",
    "except:\n",
    "    print(\"Error installing the package.\")"
   ]
  },
  {
   "cell_type": "markdown",
   "metadata": {},
   "source": [
    "---\n",
    "---"
   ]
  },
  {
   "cell_type": "markdown",
   "metadata": {},
   "source": [
    "# Jugador del alumno\n",
    "\n",
    "Aquí el alumno debe implementar el algoritmo.\n",
    "\n",
    "🔨 **Este código debe ser terminado por el alumno**\n",
    "\n",
    "Si se desea, se puede modificar el constructor de la clase, añadir métodos, funciones, variables, etc.\n",
    "*Por ejemplo: se puede sobre-escribir el método `starting_game` para realizar alguna acción al comienzo de cada partida.*\n",
    "\n",
    "❗ **No cambiar la signatura de la función principal `play` ni el nombre de la variable `my_player`**."
   ]
  },
  {
   "cell_type": "code",
   "execution_count": 2,
   "metadata": {},
   "outputs": [],
   "source": [
    "from IArena.games.Connect4 import Connect4Rules, Connect4Movement, Connect4Position\n",
    "from IArena.interfaces.IPlayer import IPlayer\n",
    "\n",
    "# Define player class\n",
    "class MyPlayer(IPlayer):\n",
    "\n",
    "    def play(\n",
    "            self,\n",
    "            position: Connect4Position) -> Connect4Movement:\n",
    "        # IMPLEMENT YOUR CODE HERE\n",
    "        # This is a simple example that plays the first possible movement (arbitrary one)\n",
    "        return position.get_rules().possible_movements(position)[0]\n",
    "\n",
    "\n",
    "# Create player instance (can add ctor parameters if needed)\n",
    "my_player = MyPlayer(name=\"Student\")"
   ]
  },
  {
   "cell_type": "markdown",
   "metadata": {},
   "source": [
    "---\n",
    "---"
   ]
  },
  {
   "cell_type": "markdown",
   "metadata": {},
   "source": [
    "# Validador\n",
    "\n",
    "En estas celdas se generan los casos de prueba y se mide la eficiencia del algoritmo implementado\n",
    "\n",
    "⚠️ **No tocar estas celdas**"
   ]
  },
  {
   "cell_type": "code",
   "execution_count": null,
   "metadata": {},
   "outputs": [],
   "source": [
    "from IArena.arena.TournamentGame import RepeatedGame\n",
    "from IArena.players.dummy_players import ConsistentRandomPlayer\n",
    "\n",
    "REPETITIONS = 100\n",
    "players = [\n",
    "    my_player,\n",
    "    ConsistentRandomPlayer(seed=42, name=\"Random\"),\n",
    "]"
   ]
  },
  {
   "cell_type": "markdown",
   "metadata": {},
   "source": [
    "---\n",
    "\n",
    "## Test case 1 - Trivial"
   ]
  },
  {
   "cell_type": "code",
   "execution_count": 3,
   "metadata": {},
   "outputs": [],
   "source": [
    "# Arguments\n",
    "position = \"0|6|||0|0|0|||\"\n",
    "repetitions = REPETITIONS\n",
    "\n",
    "# Game creation\n",
    "rules = Connect4Rules(\n",
    "    initial_matrix_str=position)\n",
    "tournament = RepeatedGame(\n",
    "    rules=rules,\n",
    "    players=players,\n",
    "    repetition=repetitions)\n",
    "\n",
    "# Run\n",
    "score = tournament.play()\n",
    "print(score)"
   ]
  },
  {
   "cell_type": "markdown",
   "metadata": {},
   "source": [
    "---\n",
    "\n",
    "## Test case 2 - Only 1 correct move"
   ]
  },
  {
   "cell_type": "code",
   "execution_count": null,
   "metadata": {},
   "outputs": [],
   "source": [
    "# Arguments\n",
    "position = \"0|6|111|111|111||0111|0111|0111|\"\n",
    "repetitions = REPETITIONS\n",
    "\n",
    "# Game creation\n",
    "rules = Connect4Rules(\n",
    "    initial_matrix_str=position)\n",
    "tournament = RepeatedGame(\n",
    "    rules=rules,\n",
    "    players=players,\n",
    "    repetition=repetitions)\n",
    "\n",
    "# Run\n",
    "score = tournament.play()\n",
    "print(score)"
   ]
  },
  {
   "cell_type": "markdown",
   "metadata": {},
   "source": [
    "---\n",
    "\n",
    "## Test case 3 - Diagonal win"
   ]
  },
  {
   "cell_type": "code",
   "execution_count": null,
   "metadata": {},
   "outputs": [],
   "source": [
    "# Arguments\n",
    "position = \"0|6|0|10|110|111||||\"\n",
    "repetitions = REPETITIONS\n",
    "\n",
    "# Game creation\n",
    "rules = Connect4Rules(\n",
    "    initial_matrix_str=position)\n",
    "tournament = RepeatedGame(\n",
    "    rules=rules,\n",
    "    players=players,\n",
    "    repetition=repetitions)\n",
    "\n",
    "# Run\n",
    "score = tournament.play()\n",
    "print(score)"
   ]
  },
  {
   "cell_type": "markdown",
   "metadata": {},
   "source": [
    "---\n",
    "\n",
    "## Test case 4 - Playing with player 1"
   ]
  },
  {
   "cell_type": "code",
   "execution_count": null,
   "metadata": {},
   "outputs": [],
   "source": [
    "# Arguments\n",
    "position = \"1|6|1000|000|0101|011|1|1||\"\n",
    "repetitions = REPETITIONS\n",
    "\n",
    "# Game creation\n",
    "rules = Connect4Rules(\n",
    "    initial_matrix_str=position)\n",
    "tournament = RepeatedGame(\n",
    "    rules=rules,\n",
    "    players=list(reversed(players)),\n",
    "    repetition=repetitions)\n",
    "\n",
    "# Run\n",
    "score = tournament.play()\n",
    "print(score)"
   ]
  },
  {
   "cell_type": "markdown",
   "metadata": {},
   "source": [
    "---\n",
    "\n",
    "## Test case 5 - 2 moves play"
   ]
  },
  {
   "cell_type": "code",
   "execution_count": null,
   "metadata": {},
   "outputs": [],
   "source": [
    "# Arguments\n",
    "position = \"0|6|100011|101100|11001|010011|010011|1|110001|\"\n",
    "repetitions = REPETITIONS\n",
    "\n",
    "# Game creation\n",
    "rules = Connect4Rules(\n",
    "    initial_matrix_str=position)\n",
    "tournament = RepeatedGame(\n",
    "    rules=rules,\n",
    "    players=players,\n",
    "    repetition=repetitions)\n",
    "\n",
    "# Run\n",
    "score = tournament.play()\n",
    "print(score)"
   ]
  }
 ],
 "metadata": {
  "kernelspec": {
   "display_name": ".default_venv",
   "language": "python",
   "name": "python3"
  },
  "language_info": {
   "codemirror_mode": {
    "name": "ipython",
    "version": 3
   },
   "file_extension": ".py",
   "mimetype": "text/x-python",
   "name": "python",
   "nbconvert_exporter": "python",
   "pygments_lexer": "ipython3",
   "version": "3.12.3"
  },
  "orig_nbformat": 4
 },
 "nbformat": 4,
 "nbformat_minor": 2
}
