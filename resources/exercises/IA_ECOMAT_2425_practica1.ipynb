{
 "cells": [
  {
   "cell_type": "markdown",
   "metadata": {},
   "source": [
    "# <font color=orange> Práctica 1</font>\n",
    "## 3 - ECOMAT - Inteligencia Artificial\n",
    "### Connect4 - Minimax"
   ]
  },
  {
   "cell_type": "markdown",
   "metadata": {},
   "source": [
    "---\n",
    "---"
   ]
  },
  {
   "cell_type": "markdown",
   "metadata": {},
   "source": [
    "## Descripción\n",
    "\n",
    "Esta práctica tiene como objetivo programar el algoritmo Minimax para el juego Connect4.\n",
    "El programa se desarrollará sobre el entorno de trabajo **IArena**.\n",
    "\n",
    "Se proporcionan casos de prueba con jugadores aleatorios y un jugador `Strong`. El algoritmo programado debe tener un rendimiento similar al jugador `Strong`.\n",
    "\n",
    "### Entorno\n",
    "\n",
    "Esta práctica se lleva a cabo en el entorno de trabajo **IArena**, un proyecto open source alojado en Github.\n",
    "\n",
    "- [Código fuente](https://github.com/jparisu/IArena)\n",
    "- [Documentación](https://iarena.readthedocs.io/en/latest/index.html)\n",
    "- [Tutorial](https://iarena.readthedocs.io/en/latest/src/getting_started/tutorial.html)\n",
    "\n",
    "### Equipos de trabajo\n",
    "\n",
    "La práctica se realizará en grupos de máximo 2 personas.\n",
    "\n",
    "### Entrega\n",
    "\n",
    "La entrega se basará en este fichero Notebook con el código del algoritmo implementado en la clase de jugador correspondiente.\n",
    "\n",
    "### Calificación\n",
    "\n",
    "**Esta práctica contará como un 8% de la nota final**.\n",
    "\n",
    "En la calificación se tendrá en cuenta con esta prioridad:\n",
    "\n",
    "1. Funcionamiento correcto del algoritmo.\n",
    "2. Eficiencia en tiempo del algoritmo.\n",
    "3. Limpieza y claridad del código y comentarios.\n",
    "\n",
    "Cualquier ejecución del algoritmo que tarde más de 10 segundos en encontrar una jugada no será considerada correcta (los casos de prueba testan este aspecto).\n",
    "\n",
    "Cualquier indicio de copia o plagio implicará la calificación de 0 en la práctica, y la posibilidad de abrir un expediente académico.\n",
    "El profesor se reserva el derecho a preguntar a los alumnos para comprobar la autoría de la práctica."
   ]
  },
  {
   "cell_type": "markdown",
   "metadata": {},
   "source": [
    "---\n",
    "---"
   ]
  },
  {
   "cell_type": "markdown",
   "metadata": {},
   "source": [
    "# Instalación de la librería sIArena"
   ]
  },
  {
   "cell_type": "code",
   "execution_count": null,
   "metadata": {},
   "outputs": [],
   "source": [
    "# INSTALL LIBRARY\n",
    "import subprocess\n",
    "import sys\n",
    "\n",
    "try:\n",
    "    subprocess.check_call([\"pip\", \"install\", \"git+https://github.com/jparisu/IArena.git@main\"])\n",
    "    print(\"Package installed.\")\n",
    "except:\n",
    "    print(\"Error installing the package.\")"
   ]
  },
  {
   "cell_type": "markdown",
   "metadata": {},
   "source": [
    "---\n",
    "---"
   ]
  },
  {
   "cell_type": "markdown",
   "metadata": {},
   "source": [
    "# Jugador del alumno\n",
    "\n",
    "Aquí el alumno debe implementar el algoritmo.\n",
    "\n",
    "🔨 **Este código debe ser terminado por el alumno**\n",
    "\n",
    "Si se desea, se puede modificar el constructor de la clase, añadir métodos, funciones, variables, etc.\n",
    "*Por ejemplo: se puede sobre-escribir el método `starting_game` para realizar alguna acción al comienzo de cada partida.*\n",
    "\n",
    "❗ **No cambiar la signatura de la función principal `play` ni el nombre de la variable `my_player`**."
   ]
  },
  {
   "cell_type": "code",
   "execution_count": 2,
   "metadata": {},
   "outputs": [],
   "source": [
    "from IArena.games.Connect4 import Connect4Rules, Connect4Movement, Connect4Position\n",
    "from IArena.interfaces.IPlayer import IPlayer\n",
    "\n",
    "# Define player class\n",
    "class MyPlayer(IPlayer):\n",
    "\n",
    "    def play(\n",
    "            self,\n",
    "            position: Connect4Position) -> Connect4Movement:\n",
    "        # IMPLEMENT YOUR CODE HERE\n",
    "        # This is a simple example that plays the first possible movement (arbitrary one)\n",
    "        return position.get_rules().possible_movements(position)[0]\n",
    "\n",
    "\n",
    "# Create player instance (can add ctor parameters if needed)\n",
    "my_player = MyPlayer(name=\"Student\")"
   ]
  },
  {
   "cell_type": "markdown",
   "metadata": {},
   "source": [
    "---\n",
    "---"
   ]
  },
  {
   "cell_type": "markdown",
   "metadata": {},
   "source": [
    "# Validador\n",
    "\n",
    "En estas celdas se generan los casos de prueba y se mide la eficiencia del algoritmo implementado\n",
    "\n",
    "⚠️ **No tocar estas celdas**"
   ]
  },
  {
   "cell_type": "code",
   "execution_count": null,
   "metadata": {},
   "outputs": [],
   "source": [
    "from IArena.arena.GenericGame import ClockGame\n",
    "from IArena.arena.TournamentGame import TournamentGame\n",
    "from IArena.players.dummy_players import ConsistentRandomPlayer\n",
    "from IArena.players.minimax_players import MinimaxRandomConsistentPlayer as StrongestPlayer\n",
    "\n",
    "REPETITIONS = 5\n",
    "players = [\n",
    "    my_player,\n",
    "    ConsistentRandomPlayer(seed=1, name=\"Random_01\"),\n",
    "    ConsistentRandomPlayer(seed=2, name=\"Random_02\"),\n",
    "    StrongestPlayer(seed=42, alpha=-1, beta=1, name=\"Strong\"),\n",
    "]\n"
   ]
  },
  {
   "cell_type": "markdown",
   "metadata": {},
   "source": [
    "---\n",
    "\n",
    "## Test case 1 - Caso sencillo"
   ]
  },
  {
   "cell_type": "code",
   "execution_count": 3,
   "metadata": {},
   "outputs": [],
   "source": [
    "# Arguments\n",
    "position = \"0|6|100011|101100|11001|010011|010011|1|110001|\"\n",
    "repetitions = REPETITIONS*5\n",
    "\n",
    "# Game creation\n",
    "rules = Connect4Rules(\n",
    "    initial_matrix_str=position)\n",
    "tournament = TournamentGame(\n",
    "    rules=rules,\n",
    "    players=players,\n",
    "    matches=repetitions,\n",
    "    game_ctor = ClockGame)\n",
    "\n",
    "# Run\n",
    "score = tournament.play()\n",
    "print(score)"
   ]
  },
  {
   "cell_type": "markdown",
   "metadata": {},
   "source": [
    "---\n",
    "\n",
    "## Test case 2 - 2 columns game"
   ]
  },
  {
   "cell_type": "code",
   "execution_count": null,
   "metadata": {},
   "outputs": [],
   "source": [
    "# Arguments\n",
    "position = \"0|6|110011|001100|110011|001100|110011|0|0|\"\n",
    "repetitions = REPETITIONS*4\n",
    "\n",
    "# Game creation\n",
    "rules = Connect4Rules(\n",
    "    initial_matrix_str=position)\n",
    "tournament = TournamentGame(\n",
    "    rules=rules,\n",
    "    players=players,\n",
    "    matches=repetitions,\n",
    "    game_ctor = ClockGame)\n",
    "\n",
    "# Run\n",
    "score = tournament.play()\n",
    "print(score)"
   ]
  },
  {
   "cell_type": "markdown",
   "metadata": {},
   "source": [
    "---\n",
    "\n",
    "## Test case 3 - 2 rows game 4 columns"
   ]
  },
  {
   "cell_type": "code",
   "execution_count": null,
   "metadata": {},
   "outputs": [],
   "source": [
    "# Arguments\n",
    "position = \"0|6|100011|101000|0101|0101|0101|1010|100111|\"\n",
    "repetitions = REPETITIONS*2\n",
    "\n",
    "# Game creation\n",
    "rules = Connect4Rules(\n",
    "    initial_matrix_str=position)\n",
    "tournament = TournamentGame(\n",
    "    rules=rules,\n",
    "    players=players,\n",
    "    matches=repetitions,\n",
    "    game_ctor = ClockGame)\n",
    "\n",
    "# Run\n",
    "score = tournament.play()\n",
    "print(score)"
   ]
  },
  {
   "cell_type": "markdown",
   "metadata": {},
   "source": [
    "---\n",
    "\n",
    "## Test case 4 - Exam ECOMAT 2324 Final"
   ]
  },
  {
   "cell_type": "code",
   "execution_count": null,
   "metadata": {},
   "outputs": [],
   "source": [
    "# Arguments\n",
    "position = \"0|6|110101|111000|100100|011|01|0|110001|\"\n",
    "repetitions = REPETITIONS*2\n",
    "\n",
    "# Game creation\n",
    "rules = Connect4Rules(\n",
    "    initial_matrix_str=position)\n",
    "tournament = TournamentGame(\n",
    "    rules=rules,\n",
    "    players=players,\n",
    "    matches=repetitions,\n",
    "    game_ctor = ClockGame)\n",
    "\n",
    "# Run\n",
    "score = tournament.play()\n",
    "print(score)"
   ]
  },
  {
   "cell_type": "markdown",
   "metadata": {},
   "source": [
    "---\n",
    "\n",
    "## Test case 5 - Hard"
   ]
  },
  {
   "cell_type": "code",
   "execution_count": null,
   "metadata": {},
   "outputs": [],
   "source": [
    "# Arguments\n",
    "position = \"0|6|010101|010101|101010|101010|01|01|01|\"\n",
    "repetitions = REPETITIONS\n",
    "\n",
    "# Game creation\n",
    "rules = Connect4Rules(\n",
    "    initial_matrix_str=position)\n",
    "tournament = TournamentGame(\n",
    "    rules=rules,\n",
    "    players=players,\n",
    "    matches=repetitions,\n",
    "    game_ctor = ClockGame)\n",
    "\n",
    "# Run\n",
    "score = tournament.play()\n",
    "print(score)"
   ]
  }
 ],
 "metadata": {
  "kernelspec": {
   "display_name": ".default_venv",
   "language": "python",
   "name": "python3"
  },
  "language_info": {
   "codemirror_mode": {
    "name": "ipython",
    "version": 3
   },
   "file_extension": ".py",
   "mimetype": "text/x-python",
   "name": "python",
   "nbconvert_exporter": "python",
   "pygments_lexer": "ipython3",
   "version": "3.12.3"
  },
  "orig_nbformat": 4
 },
 "nbformat": 4,
 "nbformat_minor": 2
}
