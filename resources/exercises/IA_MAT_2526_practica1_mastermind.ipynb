{
 "cells": [
  {
   "cell_type": "markdown",
   "metadata": {},
   "source": [
    "# <font color=orange> Práctica 1</font>\n",
    "## 3 - MAT - Inteligencia Artificial - CUNEF\n",
    "### Mastermind"
   ]
  },
  {
   "cell_type": "markdown",
   "metadata": {},
   "source": [
    "---\n",
    "---"
   ]
  },
  {
   "cell_type": "markdown",
   "metadata": {},
   "source": [
    "# Descripción\n",
    "\n",
    "Esta práctica de programación en **Python** se basa en crear un jugador para el juego indicado, que use métodos inteligentes para obtener buenas puntuaciones.\n",
    "\n",
    "### Entorno\n",
    "\n",
    "Esta práctica se lleva a cabo en el entorno de trabajo **IArena**, un proyecto open source alojado en Github.\n",
    "\n",
    "- [Código fuente](https://github.com/jparisu/IArena)\n",
    "- [Documentación](https://iarena.readthedocs.io/en/latest/index.html)\n",
    "- [Tutorial](https://iarena.readthedocs.io/en/latest/src/getting_started/tutorial.html)\n",
    "\n",
    "### Equipos de trabajo\n",
    "\n",
    "La práctica se realizará en grupos de máximo 2 personas.\n",
    "\n",
    "### Entrega\n",
    "\n",
    "La entrega se basará en **este** fichero Notebook con el código del algoritmo implementado en la clase de jugador correspondiente.\n",
    "La celda de código está marcada más abajo y será la única a evaluar.\n",
    "\n",
    "\n",
    "### Calificación\n",
    "\n",
    "Existe un corrector automático que usará la celda indicada, obtendrá la información de los autores, evaluará el código y calificará la tarea.\n",
    "La calificación será un 90% la puntuación obtenida por el corrector automático, y un 10% por el código: claridad, limpieza, comentarios, etc.\n",
    "\n",
    "La calificación seguirá la rúbrica establecida para el curso. \n",
    "Se recomienda leerla previa a la entrega.\n",
    "\n",
    "> ⚠️ El código y nombres debe estar íntegramente escrito en la celda indicada. Si no, la corrección automática no funcionará.\n",
    "\n",
    "> ⚠️ El profesor se guarda la potestad de realizar exámenes individuales o grupales a los alumnos para determinar la autoría de la entrega."
   ]
  },
  {
   "cell_type": "markdown",
   "metadata": {},
   "source": [
    "---\n",
    "---"
   ]
  },
  {
   "cell_type": "markdown",
   "metadata": {},
   "source": [
    "# Instalación de la librería"
   ]
  },
  {
   "cell_type": "code",
   "execution_count": null,
   "metadata": {},
   "outputs": [],
   "source": [
    "# INSTALL LIBRARY\n",
    "import subprocess\n",
    "import sys\n",
    "\n",
    "IARENA_BRANCH = \"main\"\n",
    "\n",
    "try:\n",
    "    subprocess.check_call([\"pip\", \"install\", f\"git+https://github.com/jparisu/IArena.git@{IARENA_BRANCH}\"])\n",
    "    print(\"Package installed.\")\n",
    "except:\n",
    "    print(\"Error installing the package.\")"
   ]
  },
  {
   "cell_type": "code",
   "execution_count": null,
   "metadata": {},
   "outputs": [],
   "source": [
    "# IMPORT LIBRARY MODULES\n",
    "\n",
    "from IArena.arena.GenericGame import GenericGame, BroadcastGame\n",
    "from IArena.games.Mastermind import MastermindMovement, MastermindPosition, MastermindRules, MastermindPlayablePlayer\n",
    "from IArena.interfaces.IPlayer import IPlayer\n",
    "from IArena.interfaces.ScoreBoard import ScoreBoard\n",
    "from IArena.utils.RandomGenerator import RandomGenerator\n",
    "\n",
    "# Forced configuration for this exercise\n",
    "ALLOW_REPETITIONS = False"
   ]
  },
  {
   "cell_type": "markdown",
   "metadata": {},
   "source": [
    "---\n",
    "---"
   ]
  },
  {
   "cell_type": "markdown",
   "metadata": {},
   "source": [
    "# Juega tú\n",
    "\n",
    "En la siguiente celda podrás jugar al juego de la práctica.\n",
    "\n",
    "> 💡 Comenta la siguiente celda cuando no quieras probar más el juego"
   ]
  },
  {
   "cell_type": "code",
   "execution_count": null,
   "metadata": {},
   "outputs": [],
   "source": [
    "# Set game configuration\n",
    "NUMBER_OF_COLORS = 8\n",
    "CODE_SIZE = 5\n",
    "RANDOM_SEED = 0\n",
    "\n",
    "# Create a playable player\n",
    "player = MastermindPlayablePlayer()\n",
    "\n",
    "# Generate a secret\n",
    "# You can select your own secret or use a random one\n",
    "# secret = []  # Your secret\n",
    "secret = MastermindRules.random_secret(\n",
    "    code_size=CODE_SIZE,\n",
    "    number_colors=NUMBER_OF_COLORS,\n",
    "    rng=RandomGenerator(RANDOM_SEED),\n",
    "    color_repetition=ALLOW_REPETITIONS)\n",
    "\n",
    "# Create the rules\n",
    "rules = MastermindRules(\n",
    "    code_size=CODE_SIZE,\n",
    "    number_colors=NUMBER_OF_COLORS,\n",
    "    secret=secret,\n",
    "    allow_repetitions=ALLOW_REPETITIONS\n",
    ")\n",
    "\n",
    "# Create the game\n",
    "game = BroadcastGame(rules=rules, players=[player])\n",
    "\n",
    "# Play the game\n",
    "score = game.play()\n",
    "print(f\"Final Score: {score[0]}  (the higher the better)\")"
   ]
  },
  {
   "cell_type": "markdown",
   "metadata": {},
   "source": [
    "---\n",
    "---"
   ]
  },
  {
   "cell_type": "markdown",
   "metadata": {},
   "source": [
    "# Diseña tu jugador\n",
    "\n",
    "Aquí el alumno debe implementar el algoritmo.\n",
    "\n",
    "> 🔨 **Todo el código entregable debe estar escrito en la siguiente celda**\n",
    "\n",
    "Si se desea, se puede modificar el constructor de la clase, añadir métodos, funciones, variables, etc.\n",
    "*Por ejemplo: se puede sobre-escribir el método `starting_game` para realizar alguna acción al comienzo de cada partida.*\n",
    "\n",
    "> ❗ **No cambiar la signatura de la función principal `play` ni el nombre de la variable `students_player`**.\n",
    "\n",
    "> ⚠️ El código y nombres debe estar íntegramente escrito en la celda indicada. Si no, la corrección automática no funcionará."
   ]
  },
  {
   "cell_type": "code",
   "execution_count": 2,
   "metadata": {},
   "outputs": [],
   "source": [
    "# CODE SOLUTION\n",
    "# @AUTHOR1: Doe, Jonh\n",
    "# @AUTHOR2:\n",
    "\n",
    "# IMPORTANT: do not remove these imports\n",
    "from IArena.games.Mastermind import MastermindMovement, MastermindPosition\n",
    "from IArena.interfaces.IPlayer import IPlayer\n",
    "\n",
    "\n",
    "# Add more imports or helper functions if needed\n",
    "# ...\n",
    "import random  # Example import\n",
    "\n",
    "\n",
    "# Define player class\n",
    "class StudentsPlayer(IPlayer):\n",
    "\n",
    "    def play(\n",
    "            self,\n",
    "            position: MastermindPosition) -> MastermindMovement:\n",
    "        # IMPLEMENT YOUR CODE HERE\n",
    "        # This is a simple example that plays a random possible movement (arbitrary one)\n",
    "        return random.choice(list(position.get_rules().possible_movements(position)))\n",
    "\n",
    "\n",
    "# Create player instance (can add ctor parameters if needed)\n",
    "students_player = StudentsPlayer(name=\"Student\")"
   ]
  },
  {
   "cell_type": "markdown",
   "metadata": {},
   "source": [
    "---\n",
    "---"
   ]
  },
  {
   "cell_type": "markdown",
   "metadata": {},
   "source": [
    "# Prueba tu jugador\n",
    "\n",
    "En estas celdas puedes probar a crear una instancia de tu jugador y ponerlo a prueba."
   ]
  },
  {
   "cell_type": "code",
   "execution_count": null,
   "metadata": {},
   "outputs": [],
   "source": [
    "# Set game configuration\n",
    "NUMBER_OF_COLORS = 8\n",
    "CODE_SIZE = 5\n",
    "RANDOM_SEED = 0\n",
    "\n",
    "# Create a playable player\n",
    "player = StudentsPlayer()  # Add arguments if required\n",
    "\n",
    "# Generate a secret\n",
    "# You can select your own secret or use a random one\n",
    "# secret = []  # Your secret\n",
    "secret = MastermindRules.random_secret(\n",
    "    code_size=CODE_SIZE,\n",
    "    number_colors=NUMBER_OF_COLORS,\n",
    "    rng=RandomGenerator(RANDOM_SEED),\n",
    "    color_repetition=ALLOW_REPETITIONS)\n",
    "\n",
    "# Create the rules\n",
    "rules = MastermindRules(\n",
    "    code_size=CODE_SIZE,\n",
    "    number_colors=NUMBER_OF_COLORS,\n",
    "    secret=secret,\n",
    "    allow_repetitions=ALLOW_REPETITIONS\n",
    ")\n",
    "\n",
    "# Create the game\n",
    "game = BroadcastGame(rules=rules, players=[player])\n",
    "\n",
    "# Play the game\n",
    "score = game.play()\n",
    "print(f\"Final Score: {score[0]}  (the higher the better)\")"
   ]
  },
  {
   "cell_type": "markdown",
   "metadata": {},
   "source": [
    "---\n",
    "---"
   ]
  },
  {
   "cell_type": "markdown",
   "metadata": {},
   "source": [
    "# AUTO CORRECTOR\n",
    "\n",
    "Esta celda auto-corrige tu código y te da la puntuación asociada a tu código.\n",
    "Comprueba que toda la información (autores) es correcta antes de enviar este archivo.\n",
    "\n",
    "> ⚠️ No tocar estas celdas."
   ]
  },
  {
   "cell_type": "code",
   "execution_count": null,
   "metadata": {},
   "outputs": [],
   "source": [
    "import os\n",
    "\n",
    "try:\n",
    "    # Works if running from a .py file\n",
    "    current_file_path = os.path.abspath(__file__)\n",
    "except NameError:\n",
    "    import ipynbname\n",
    "    # Fallback if __file__ is not defined (Jupyter)\n",
    "    current_file_path = str(ipynbname.path())"
   ]
  },
  {
   "cell_type": "code",
   "execution_count": null,
   "metadata": {},
   "outputs": [],
   "source": [
    "from IArena.grader.AutoGrader import IndividualAutoGrader\n",
    "\n",
    "CONFIGURATION_FILENAME = f\"https://raw.githubusercontent.com/jparisu/IArena/refs/heads/{IARENA_BRANCH}/resources/graders/IA_MAT_2526_mastermind.yaml\"\n",
    "\n",
    "IndividualAutoGrader(CONFIGURATION_FILENAME, current_file_path).grade()"
   ]
  }
 ],
 "metadata": {
  "kernelspec": {
   "display_name": ".default_venv",
   "language": "python",
   "name": "python3"
  },
  "language_info": {
   "codemirror_mode": {
    "name": "ipython",
    "version": 3
   },
   "file_extension": ".py",
   "mimetype": "text/x-python",
   "name": "python",
   "nbconvert_exporter": "python",
   "pygments_lexer": "ipython3",
   "version": "3.12.3"
  },
  "orig_nbformat": 4
 },
 "nbformat": 4,
 "nbformat_minor": 2
}
