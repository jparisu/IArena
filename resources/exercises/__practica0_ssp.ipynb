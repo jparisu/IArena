{
 "cells": [
  {
   "cell_type": "markdown",
   "metadata": {},
   "source": [
    "# <font color=orange> Práctica 0</font>\n",
    "## 3 - MAT - Inteligencia Artificial - CUNEF\n",
    "### Subset Sum Problem"
   ]
  },
  {
   "cell_type": "markdown",
   "metadata": {},
   "source": [
    "---\n",
    "---"
   ]
  },
  {
   "cell_type": "markdown",
   "metadata": {},
   "source": [
    "# Descripción\n",
    "\n",
    "Esta práctica de programación en **Python** se basa en crear un jugador para el juego indicado, que use métodos inteligentes para obtener buenas puntuaciones.\n",
    "\n",
    "### Entorno\n",
    "\n",
    "Esta práctica se lleva a cabo en el entorno de trabajo **IArena**, un proyecto open source alojado en Github.\n",
    "\n",
    "- [Código fuente](https://github.com/jparisu/IArena)\n",
    "- [Documentación](https://iarena.readthedocs.io/en/latest/index.html)\n",
    "- [Tutorial](https://iarena.readthedocs.io/en/latest/src/getting_started/tutorial.html)\n",
    "\n",
    "### Equipos de trabajo\n",
    "\n",
    "La práctica se realizará en grupos de máximo 2 personas.\n",
    "\n",
    "### Entrega\n",
    "\n",
    "La entrega se basará en **este** fichero Notebook con el código del algoritmo implementado en la clase de jugador correspondiente.\n",
    "La celda de código está marcada más abajo y será la única a evaluar.\n",
    "\n",
    "\n",
    "### Calificación\n",
    "\n",
    "Esta práctica no cuenta para nota."
   ]
  },
  {
   "cell_type": "markdown",
   "metadata": {},
   "source": [
    "---\n",
    "---"
   ]
  },
  {
   "cell_type": "markdown",
   "metadata": {},
   "source": [
    "# Instalación de la librería"
   ]
  },
  {
   "cell_type": "code",
   "execution_count": null,
   "metadata": {},
   "outputs": [],
   "source": [
    "# INSTALL LIBRARY\n",
    "import subprocess\n",
    "import sys\n",
    "\n",
    "IARENA_BRANCH = \"main\"\n",
    "\n",
    "try:\n",
    "    subprocess.check_call([\"pip\", \"install\", f\"ipynbname\"])\n",
    "    print(\"ipynbname Package installed.\")\n",
    "\n",
    "    subprocess.check_call([\"pip\", \"install\", f\"git+https://github.com/jparisu/IArena.git@{IARENA_BRANCH}\"])\n",
    "    print(\"IArena Package installed.\")\n",
    "except:\n",
    "    print(\"Error installing the package.\")"
   ]
  },
  {
   "cell_type": "code",
   "execution_count": null,
   "metadata": {},
   "outputs": [],
   "source": [
    "# IMPORT LIBRARY MODULES\n",
    "\n",
    "from IArena.arena.GenericGame import BroadcastGame\n",
    "from IArena.games.SSP import SSPMovement, SSPPosition, SSPRules, SSPPlayablePlayer\n",
    "from IArena.interfaces.IPlayer import IPlayer\n"
   ]
  },
  {
   "cell_type": "markdown",
   "metadata": {},
   "source": [
    "---\n",
    "---"
   ]
  },
  {
   "cell_type": "markdown",
   "metadata": {},
   "source": [
    "# Juega tú\n",
    "\n",
    "En la siguiente celda podrás jugar al juego de la práctica.\n",
    "\n",
    "> 💡 Comenta la siguiente celda cuando no quieras probar más el juego"
   ]
  },
  {
   "cell_type": "code",
   "execution_count": null,
   "metadata": {},
   "outputs": [],
   "source": [
    "# Create a playable player\n",
    "player = SSPPlayablePlayer()\n",
    "\n",
    "# Create the rules\n",
    "rules = SSPRules(\n",
    "    coins=[2,3,5,7,11],\n",
    "    target=15,\n",
    ")\n",
    "\n",
    "# Create the game\n",
    "game = BroadcastGame(rules=rules, players=[player])\n",
    "\n",
    "# Play the game\n",
    "score = game.play()\n",
    "print(f\"Final Score: {score[0]}  (the higher the better)\")"
   ]
  },
  {
   "cell_type": "markdown",
   "metadata": {},
   "source": [
    "---\n",
    "---"
   ]
  },
  {
   "cell_type": "markdown",
   "metadata": {},
   "source": [
    "# Diseña tu jugador\n",
    "\n",
    "Aquí el alumno debe implementar el algoritmo.\n",
    "\n",
    "> 🔨 **Todo el código entregable debe estar escrito en la siguiente celda**\n",
    "\n",
    "Si se desea, se puede modificar el constructor de la clase, añadir métodos, funciones, variables, etc.\n",
    "*Por ejemplo: se puede sobre-escribir el método `starting_game` para realizar alguna acción al comienzo de cada partida.*\n",
    "\n",
    "> ❗ **No cambiar la signatura de la función principal `play` ni el nombre de la variable `students_player`**.\n",
    "\n",
    "> ⚠️ El código y nombres debe estar íntegramente escrito en la celda indicada. Si no, la corrección automática no funcionará."
   ]
  },
  {
   "cell_type": "code",
   "execution_count": 2,
   "metadata": {},
   "outputs": [],
   "source": [
    "# CODE SOLUTION\n",
    "# @AUTHOR1: Doe, Jonh\n",
    "# @AUTHOR2:\n",
    "\n",
    "# IMPORTANT: do not remove these imports\n",
    "from IArena.games.SSP import SSPMovement, SSPPosition\n",
    "from IArena.interfaces.IPlayer import IPlayer\n",
    "\n",
    "\n",
    "# Add more imports or helper functions if needed\n",
    "# ...\n",
    "\n",
    "\n",
    "# Define player class\n",
    "class StudentsPlayer(IPlayer):\n",
    "\n",
    "    def play(\n",
    "            self,\n",
    "            position: SSPPosition) -> SSPMovement:\n",
    "        # IMPLEMENT YOUR CODE HERE\n",
    "        # This is a simple example that finish the game as soon as possible\n",
    "        return SSPMovement.Finish()\n",
    "\n",
    "\n",
    "# Create player instance (can add ctor parameters if needed)\n",
    "students_player = StudentsPlayer(name=\"Student\")"
   ]
  },
  {
   "cell_type": "markdown",
   "metadata": {},
   "source": [
    "---\n",
    "---"
   ]
  },
  {
   "cell_type": "markdown",
   "metadata": {},
   "source": [
    "# Prueba tu jugador\n",
    "\n",
    "En estas celdas puedes probar a crear una instancia de tu jugador y ponerlo a prueba."
   ]
  },
  {
   "cell_type": "code",
   "execution_count": null,
   "metadata": {},
   "outputs": [],
   "source": [
    "# Create a playable player\n",
    "player = StudentsPlayer(name=\"TestingStudentPlayer\")  # Add arguments if required\n",
    "\n",
    "# Create the rules\n",
    "rules = SSPRules(\n",
    "    coins=[2,3,5,7,11],\n",
    "    target=15,\n",
    ")\n",
    "\n",
    "# Create the game\n",
    "game = BroadcastGame(rules=rules, players=[player])\n",
    "\n",
    "# Play the game\n",
    "score = game.play()\n",
    "print(f\"Final Score: {score[0]}  (the higher the better)\")"
   ]
  },
  {
   "cell_type": "markdown",
   "metadata": {},
   "source": [
    "---\n",
    "---"
   ]
  },
  {
   "cell_type": "markdown",
   "metadata": {},
   "source": [
    "# AUTO CORRECTOR\n",
    "\n",
    "Esta celda auto-corrige tu código y te da la puntuación asociada a tu código.\n",
    "Comprueba que toda la información (autores) es correcta antes de enviar este archivo.\n",
    "\n",
    "> ⚠️ No tocar estas celdas."
   ]
  },
  {
   "cell_type": "code",
   "execution_count": null,
   "metadata": {},
   "outputs": [],
   "source": [
    "from IArena.grader.AutoGrader import IndividualAutoGrader\n",
    "\n",
    "CONFIGURATION_FILENAME = f\"https://raw.githubusercontent.com/jparisu/IArena/refs/heads/{IARENA_BRANCH}/resources/graders/IA_MAT_2526_ssp.yaml\"\n",
    "\n",
    "IndividualAutoGrader(CONFIGURATION_FILENAME, students_player).grade()"
   ]
  }
 ],
 "metadata": {
  "kernelspec": {
   "display_name": ".default_venv",
   "language": "python",
   "name": "python3"
  },
  "language_info": {
   "codemirror_mode": {
    "name": "ipython",
    "version": 3
   },
   "file_extension": ".py",
   "mimetype": "text/x-python",
   "name": "python",
   "nbconvert_exporter": "python",
   "pygments_lexer": "ipython3",
   "version": "3.12.3"
  },
  "orig_nbformat": 4
 },
 "nbformat": 4,
 "nbformat_minor": 2
}
